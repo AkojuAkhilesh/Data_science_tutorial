{
 "cells": [
  {
   "cell_type": "code",
   "execution_count": 1,
   "id": "e5f16195",
   "metadata": {},
   "outputs": [],
   "source": [
    "import numpy as np"
   ]
  },
  {
   "cell_type": "code",
   "execution_count": 4,
   "id": "8bc51461",
   "metadata": {},
   "outputs": [
    {
     "name": "stdout",
     "output_type": "stream",
     "text": [
      "[1 2 3 4 5]\n",
      "[[1 2 3]\n",
      " [4 5 6]]\n",
      "[[[1 2]\n",
      "  [3 4]]\n",
      "\n",
      " [[5 6]\n",
      "  [7 8]]]\n"
     ]
    }
   ],
   "source": [
    "arr1 = np.array([1, 2, 3, 4, 5])\n",
    "print(arr1)\n",
    "\n",
    "arr2 = np.array([[1, 2, 3], [4, 5, 6]])\n",
    "print(arr2)\n",
    "\n",
    "arr3 = np.array([[[1, 2], [3, 4]], [[5, 6], [7, 8]]])\n",
    "print(arr3)"
   ]
  },
  {
   "cell_type": "code",
   "execution_count": 5,
   "id": "26db7158",
   "metadata": {},
   "outputs": [
    {
     "name": "stdout",
     "output_type": "stream",
     "text": [
      "(2, 3)\n",
      "2\n",
      "6\n",
      "int32\n"
     ]
    }
   ],
   "source": [
    "print(arr2.shape)  # Shape of the array\n",
    "print(arr2.ndim)   # Number of dimensions\n",
    "print(arr2.size)   # Total number of elements\n",
    "print(arr2.dtype)"
   ]
  },
  {
   "cell_type": "code",
   "execution_count": 16,
   "id": "e6fc5991",
   "metadata": {},
   "outputs": [
    {
     "name": "stdout",
     "output_type": "stream",
     "text": [
      "[[0. 0. 0.]\n",
      " [0. 0. 0.]]\n",
      "[[1. 1. 1.]\n",
      " [1. 1. 1.]\n",
      " [1. 1. 1.]]\n",
      "[[1. 0. 0. 0.]\n",
      " [0. 1. 0. 0.]\n",
      " [0. 0. 1. 0.]\n",
      " [0. 0. 0. 1.]]\n",
      "[[0.32649003 0.33068915]\n",
      " [0.7351608  0.30384384]]\n",
      "[0.  2.5 5.  7.5]\n",
      "[[[0. 0.]]\n",
      "\n",
      " [[0. 0.]]\n",
      "\n",
      " [[0. 0.]]\n",
      "\n",
      " [[0. 0.]]\n",
      "\n",
      " [[0. 0.]]]\n"
     ]
    }
   ],
   "source": [
    "zeros = np.zeros((2, 3))\n",
    "print(zeros)\n",
    "\n",
    "d = np.ones((3, 3))\n",
    "print(d)\n",
    "\n",
    "identity = np.eye(4)\n",
    "print(identity)\n",
    "\n",
    "random = np.random.random((2, 2))\n",
    "print(random)\n",
    "\n",
    "range_arr = np.arange(0, 10, 2.5)  # Start, stop, step\n",
    "print(range_arr)\n",
    "\n",
    "x=np.zeros((5,1,2))\n",
    "print(x)"
   ]
  },
  {
   "cell_type": "code",
   "execution_count": 19,
   "id": "d6bd481d",
   "metadata": {},
   "outputs": [
    {
     "name": "stdout",
     "output_type": "stream",
     "text": [
      "[1 2 3]\n",
      "2\n"
     ]
    }
   ],
   "source": [
    "x=np.array([[1,2,3],[4,5,6],[7,8,9]])\n",
    "print(x[0])\n",
    "print(x[0,1])"
   ]
  },
  {
   "cell_type": "code",
   "execution_count": 25,
   "id": "54dac47d",
   "metadata": {},
   "outputs": [
    {
     "name": "stdout",
     "output_type": "stream",
     "text": [
      "[1 2 3]\n",
      "[2 5]\n",
      "[[4 5]\n",
      " [7 8]]\n",
      "[[4 5 6]\n",
      " [7 8 9]]\n"
     ]
    }
   ],
   "source": [
    "print(x[0,:])\n",
    "print(x[:2,1])\n",
    "print(x[1:3,0:2])\n",
    "print(x[1:3])"
   ]
  },
  {
   "cell_type": "code",
   "execution_count": 35,
   "id": "f71b1f8b",
   "metadata": {},
   "outputs": [
    {
     "name": "stdout",
     "output_type": "stream",
     "text": [
      "[6 7 8 9]\n"
     ]
    }
   ],
   "source": [
    "print(x[x>5])"
   ]
  },
  {
   "cell_type": "code",
   "execution_count": 44,
   "id": "37dd02de",
   "metadata": {},
   "outputs": [
    {
     "name": "stdout",
     "output_type": "stream",
     "text": [
      "[5 7 9]\n",
      "[-3 -3 -3]\n",
      "[ 4 10 18]\n",
      "[0.25 0.4  0.5 ]\n",
      "[2.  2.5 3. ]\n"
     ]
    }
   ],
   "source": [
    "x1=np.array([1,2,3])\n",
    "x2=np.array([4,5,6])\n",
    "\n",
    "print(x1+x2)\n",
    "print(x1-x2)\n",
    "print(x1*x2)\n",
    "print(x1/x2)\n",
    "print(x2/(np.ones(3)*2))"
   ]
  },
  {
   "cell_type": "code",
   "execution_count": 42,
   "id": "ca637ebd",
   "metadata": {},
   "outputs": [
    {
     "name": "stdout",
     "output_type": "stream",
     "text": [
      "[[19 22]\n",
      " [43 50]]\n",
      "[[1 3]\n",
      " [2 4]]\n"
     ]
    }
   ],
   "source": [
    "x1=np.array([[1,2],[3,4]])\n",
    "x2=np.array([[5,6],[7,8]])\n",
    "\n",
    "print(np.dot(x1,x2))\n",
    "\n",
    "print(x1.T)"
   ]
  },
  {
   "cell_type": "code",
   "execution_count": 56,
   "id": "3533706e",
   "metadata": {},
   "outputs": [
    {
     "name": "stdout",
     "output_type": "stream",
     "text": [
      "[[11 12 13]\n",
      " [14 15 16]]\n",
      "[[-9 -8 -7]\n",
      " [-6 -5 -4]]\n",
      "8\n"
     ]
    }
   ],
   "source": [
    "x=np.array([[1,2,3],[4,5,6]])\n",
    "print(x+10)\n",
    "print(x-10)\n",
    "print(x[1,2]+2)\n"
   ]
  },
  {
   "cell_type": "code",
   "execution_count": 59,
   "id": "9bbbb889",
   "metadata": {},
   "outputs": [
    {
     "name": "stdout",
     "output_type": "stream",
     "text": [
      "-2.0000000000000004\n",
      "[[-2.   1. ]\n",
      " [ 1.5 -0.5]]\n"
     ]
    }
   ],
   "source": [
    "from numpy.linalg import inv, det\n",
    "\n",
    "a=np.array([[1,2],[3,4]])\n",
    "print(det(a))\n",
    "print(inv(a))\n"
   ]
  },
  {
   "cell_type": "code",
   "execution_count": 61,
   "id": "04278191",
   "metadata": {},
   "outputs": [
    {
     "name": "stdout",
     "output_type": "stream",
     "text": [
      "[ 1  3  4 23 34 52 56]\n",
      "[1 2 0 6 4 5 3]\n"
     ]
    }
   ],
   "source": [
    "b=np.array([4,1,3,56,34,52,23])\n",
    "print(np.sort(b))\n",
    "print(np.argsort(b))"
   ]
  },
  {
   "cell_type": "code",
   "execution_count": 63,
   "id": "24e60504",
   "metadata": {},
   "outputs": [
    {
     "name": "stdout",
     "output_type": "stream",
     "text": [
      "[ 4  1  3 56 34 52 23]\n"
     ]
    }
   ],
   "source": [
    "np.save('array.npy',b)\n",
    "loaded=np.load('array.npy')\n",
    "print(loaded)"
   ]
  },
  {
   "cell_type": "code",
   "execution_count": 64,
   "id": "ba5f2e5a",
   "metadata": {},
   "outputs": [
    {
     "name": "stdout",
     "output_type": "stream",
     "text": [
      "[0.  0.5 1. ]\n"
     ]
    }
   ],
   "source": [
    "d=np.array([10,20,30])\n",
    "nor=(d-np.min(d))/(np.max(d)-np.min(d))\n",
    "print(nor)"
   ]
  },
  {
   "cell_type": "code",
   "execution_count": 65,
   "id": "36b4a9d6",
   "metadata": {},
   "outputs": [
    {
     "data": {
      "image/png": "[encoded data removed]",
      "text/plain": [
       "<Figure size 640x480 with 1 Axes>"
      ]
     },
     "metadata": {},
     "output_type": "display_data"
    }
   ],
   "source": [
    "import matplotlib.pyplot as plt\n",
    "\n",
    "img=np.random.random((10,10))\n",
    "plt.imshow(img, cmap='gray')\n",
    "plt.show()"
   ]
  },
  {
   "cell_type": "code",
   "execution_count": 66,
   "id": "1f6cebcd",
   "metadata": {},
   "outputs": [
    {
     "name": "stdout",
     "output_type": "stream",
     "text": [
      " p time 0.09574246406555176\n",
      "n sum time 0.0009965896606445312\n"
     ]
    }
   ],
   "source": [
    "import numpy as np\n",
    "import time\n",
    "\n",
    "p=list(range(1000000))\n",
    "start=time.time()\n",
    "ps=[x+1 for x in p]\n",
    "print(' p time',time.time()-start)\n",
    "\n",
    "n=np.arange(1000000)\n",
    "start=time.time()\n",
    "ns=n+1\n",
    "print('n sum time',time.time()-start)"
   ]
  },
  {
   "cell_type": "code",
   "execution_count": 79,
   "id": "a9e3c8cc",
   "metadata": {},
   "outputs": [
    {
     "name": "stdout",
     "output_type": "stream",
     "text": [
      "[1 2 3]\n",
      "[  10.           31.6227766   100.          316.22776602 1000.        ]\n",
      "[[0.37454012 0.95071431 0.73199394]\n",
      " [0.59865848 0.15601864 0.15599452]\n",
      " [0.05808361 0.86617615 0.60111501]]\n"
     ]
    }
   ],
   "source": [
    "a=np.array([1,2,3],dtype='int32')\n",
    "print(a)\n",
    "\n",
    "log_s=np.logspace(1,3,5)\n",
    "print(log_s)\n",
    "\n",
    "# import math\n",
    "# print(math.sqrt(1000))\n",
    "\n",
    "np.random.seed(42)\n",
    "rand_a=np.random.rand(3,3)\n",
    "print(rand_a)"
   ]
  },
  {
   "cell_type": "code",
   "execution_count": 83,
   "id": "fe831959",
   "metadata": {},
   "outputs": [
    {
     "name": "stdout",
     "output_type": "stream",
     "text": [
      "[[1 2]\n",
      " [3 4]\n",
      " [5 6]]\n",
      "[1 2 3 4 5 6]\n",
      "[[[1 2 3]]\n",
      "\n",
      " [[4 5 6]]]\n"
     ]
    }
   ],
   "source": [
    "a=np.array([[1,2,3],[4,5,6]])\n",
    "r=a.reshape(3,2)\n",
    "print(r)\n",
    "f=a.ravel()\n",
    "print(f)\n",
    "e=a[:,np.newaxis]\n",
    "print(e)"
   ]
  },
  {
   "cell_type": "code",
   "execution_count": 92,
   "id": "39d109d1",
   "metadata": {},
   "outputs": [
    {
     "name": "stdout",
     "output_type": "stream",
     "text": [
      "[False False  True  True  True]\n",
      "[ True  True False False False]\n",
      "[30 40 50] [10 20]\n",
      "[10 20 30  0  0]\n"
     ]
    }
   ],
   "source": [
    "a=np.array([10,20,30,40,50])\n",
    "mask=a>25\n",
    "n=a<23\n",
    "print(mask)\n",
    "print(n)\n",
    "print(a[mask],a[n])\n",
    "\n",
    "a[a>30]=0\n",
    "print(a)"
   ]
  },
  {
   "cell_type": "code",
   "execution_count": 94,
   "id": "e474c428",
   "metadata": {},
   "outputs": [
    {
     "name": "stdout",
     "output_type": "stream",
     "text": [
      "[10 30  0]\n"
     ]
    }
   ],
   "source": [
    "print(a[[0,2,4]])"
   ]
  },
  {
   "cell_type": "code",
   "execution_count": 100,
   "id": "54966ac4",
   "metadata": {},
   "outputs": [
    {
     "name": "stdout",
     "output_type": "stream",
     "text": [
      "55\n",
      "[ 1 55]\n"
     ]
    }
   ],
   "source": [
    "a=np.array([[[1,2],[3,4]],[[55,6],[4,23]]])\n",
    "print(a[1,0,0])\n",
    "print(a[:,0,0])"
   ]
  },
  {
   "cell_type": "code",
   "execution_count": 110,
   "id": "9f734328",
   "metadata": {},
   "outputs": [
    {
     "name": "stdout",
     "output_type": "stream",
     "text": [
      "[[2 4 6]\n",
      " [5 7 9]]\n",
      "0.49328902998134144\n",
      "3.5 2.0\n",
      "0.3322166940356619\n",
      "[0.00552212 0.11586906 0.07404465]\n",
      "[1 4]\n",
      "[0.81546143 0.77127035 0.86310343]\n"
     ]
    }
   ],
   "source": [
    "a=np.array([[1,2,3],[4,5,6]])\n",
    "a2=np.array([1,2,3])\n",
    "print(a+a2)\n",
    "\n",
    "b=np.random.rand(3,3)\n",
    "print(np.mean(b))\n",
    "print(np.mean(a),np.mean(a2))\n",
    "print(np.std(b))\n",
    "print(np.min(b, axis=0))\n",
    "print(np.min(a, axis=1))\n",
    "print(np.max(b, axis=1))"
   ]
  },
  {
   "cell_type": "code",
   "execution_count": 115,
   "id": "a137e0af",
   "metadata": {},
   "outputs": [
    {
     "name": "stdout",
     "output_type": "stream",
     "text": [
      "[[5 6 7]\n",
      " [6 7 8]\n",
      " [7 8 9]]\n",
      "original data: [[59 86 28]\n",
      " [66 42 45]\n",
      " [62 57  6]\n",
      " [28 28 44]\n",
      " [84 30 62]]\n",
      "nor data: [[-0.04416184  1.7501877  -0.47699905]\n",
      " [ 0.34225426 -0.30885665  0.42399915]\n",
      " [ 0.12144506  0.39309028 -1.64299671]\n",
      " [-1.75543316 -0.96400713  0.37099926]\n",
      " [ 1.33589568 -0.8704142   1.32499735]]\n"
     ]
    }
   ],
   "source": [
    "a1=np.array([[1],[2],[3]])\n",
    "a2=np.array([4,5,6])   #Are equal, or One of them is 1.\n",
    "print(a1+a2)\n",
    "\n",
    "d=np.random.randint(1,100,size=(5,3))\n",
    "print('original data:', d)\n",
    "\n",
    "norr=(d-d.mean(axis=0))/d.std(axis=0)\n",
    "print('nor data:',norr)"
   ]
  },
  {
   "cell_type": "code",
   "execution_count": 121,
   "id": "90bdd50e",
   "metadata": {},
   "outputs": [
    {
     "name": "stdout",
     "output_type": "stream",
     "text": [
      "U:\n",
      " [[-0.40455358 -0.9145143 ]\n",
      " [-0.9145143   0.40455358]]\n",
      "S:\n",
      " [5.4649857  0.36596619]\n",
      "V:\n",
      " [[-0.57604844 -0.81741556]\n",
      " [ 0.81741556 -0.57604844]]\n"
     ]
    }
   ],
   "source": [
    "from numpy.linalg import svd\n",
    "\n",
    "mat=np.array([[1,2],[3,4]])\n",
    "U,S,V=svd(mat)\n",
    "print('U:\\n',U)\n",
    "print('S:\\n',S)\n",
    "print('V:\\n',V)"
   ]
  },
  {
   "cell_type": "code",
   "execution_count": 122,
   "id": "9877112f",
   "metadata": {},
   "outputs": [
    {
     "name": "stdout",
     "output_type": "stream",
     "text": [
      "[2. 3.]\n"
     ]
    }
   ],
   "source": [
    "from numpy.linalg import solve\n",
    "\n",
    "A=np.array([[3,1],[1,2]])   #Ax=B\n",
    "B=np.array([9,8])\n",
    "x=solve(A,B)\n",
    "print(x)"
   ]
  },
  {
   "cell_type": "code",
   "execution_count": 127,
   "id": "c6ff90dc",
   "metadata": {},
   "outputs": [
    {
     "name": "stdout",
     "output_type": "stream",
     "text": [
      "[54.96714153 48.61735699 56.47688538 65.23029856 47.65846625 47.65863043\n",
      " 65.79212816 57.67434729 45.30525614 55.42560044]\n"
     ]
    },
    {
     "data": {
      "image/png": "[encoded data removed]",
      "text/plain": [
       "<Figure size 640x480 with 2 Axes>"
      ]
     },
     "metadata": {},
     "output_type": "display_data"
    },
    {
     "name": "stdout",
     "output_type": "stream",
     "text": [
      "[0.45806694 0.13183662 0.66434429 0.21405246 0.43285111 0.19767094\n",
      " 0.54848359 0.11605346 0.02310685 0.05113164]\n",
      "[0.45806694 0.58990356 1.25424785 1.4683003  1.90115141 2.09882235\n",
      " 2.64730593 2.76335939 2.78646625 2.83759788]\n"
     ]
    }
   ],
   "source": [
    "# example data producing\n",
    "np.random.seed(42)\n",
    "samples=np.random.normal(loc=50, scale=10, size=1000) # Mean=50, StdDev=10\n",
    "print(samples[:10])\n",
    "\n",
    "#image processing\n",
    "img=np.random.rand(100,100)\n",
    "plt.imshow(img, cmap='gray')\n",
    "plt.colorbar()\n",
    "plt.show()\n",
    "\n",
    "# efficiency in large datasets\n",
    "large_array=np.random.rand(1000000)\n",
    "cumsum=np.cumsum(large_array)\n",
    "print(large_array[:10])\n",
    "print(cumsum[:10])\n"
   ]
  },
  {
   "cell_type": "code",
   "execution_count": 132,
   "id": "945371a4",
   "metadata": {},
   "outputs": [
    {
     "name": "stdout",
     "output_type": "stream",
     "text": [
      "[1 2]\n"
     ]
    }
   ],
   "source": [
    "d=np.array([(1,'akhilesh',2.5),(2,'jabili',3.5)],dtype=[('ID','i4'),('Name','U10'),('GPA','f4')])\n",
    "print(d['ID'])"
   ]
  },
  {
   "cell_type": "code",
   "execution_count": 133,
   "id": "debc9708",
   "metadata": {},
   "outputs": [
    {
     "name": "stdout",
     "output_type": "stream",
     "text": [
      "24\n",
      "3\n"
     ]
    }
   ],
   "source": [
    "c=np.array([1,2,3], dtype='int64')\n",
    "print(a.nbytes)\n",
    "\n",
    "sc=c.astype('int8')  #convert to smaller data type\n",
    "print(sc.nbytes)"
   ]
  },
  {
   "cell_type": "code",
   "execution_count": 136,
   "id": "c2e6560c",
   "metadata": {},
   "outputs": [
    {
     "name": "stdout",
     "output_type": "stream",
     "text": [
      "[[11 96 89 62 73]\n",
      " [ 9 93 54 87 35]\n",
      " [ 6 21 57 32 54]\n",
      " [95 34  5 90 80]\n",
      " [41 22 63 97 87]]\n",
      "[[11 96 89 62 73]\n",
      " [41 22 63 97 87]\n",
      " [95 34  5 90 80]\n",
      " [ 9 93 54 87 35]\n",
      " [ 6 21 57 32 54]]\n"
     ]
    }
   ],
   "source": [
    "from numpy.random import default_rng\n",
    "\n",
    "rng=default_rng()\n",
    "random_data=rng.integers(0,100,size=(5,5))   #creating and shuffling\n",
    "print(random_data)\n",
    "\n",
    "shuffled=rng.permutation(random_data)\n",
    "print(shuffled)"
   ]
  },
  {
   "cell_type": "code",
   "execution_count": 140,
   "id": "3ad6b73e",
   "metadata": {},
   "outputs": [
    {
     "name": "stdout",
     "output_type": "stream",
     "text": [
      "[0.04016003 0.68128218 0.17568196 0.67549955 0.12707096 1.76169366\n",
      " 1.78831715 0.53325533 1.88369929 1.61808488 1.22687143 1.10347606\n",
      " 1.24954005 1.11816808 1.097201   1.6098402  0.68428045 0.50878979\n",
      " 0.48572976 1.59029117]\n",
      "4.3 ms ± 132 µs per loop (mean ± std. dev. of 7 runs, 100 loops each)\n"
     ]
    }
   ],
   "source": [
    "a=np.random.rand(1000000)\n",
    "r=a*2\n",
    "print(r[:20])\n",
    "\n",
    "%timeit a*2"
   ]
  },
  {
   "cell_type": "code",
   "execution_count": 141,
   "id": "5d513304",
   "metadata": {},
   "outputs": [
    {
     "name": "stdout",
     "output_type": "stream",
     "text": [
      "  (0, 2)\t1\n",
      "  (1, 0)\t1\n"
     ]
    }
   ],
   "source": [
    "from scipy.sparse import csr_matrix\n",
    "\n",
    "dense=np.array([[0,0,1],[1,0,0],[0,0,0]])   #sparse matrices complement numpy for efficiency\n",
    "sparse=csr_matrix(dense)\n",
    "print(sparse)"
   ]
  },
  {
   "cell_type": "code",
   "execution_count": null,
   "id": "15be9c1e",
   "metadata": {},
   "outputs": [],
   "source": []
  }
 ],
 "metadata": {
  "kernelspec": {
   "display_name": "Python 3 (ipykernel)",
   "language": "python",
   "name": "python3"
  },
  "language_info": {
   "codemirror_mode": {
    "name": "ipython",
    "version": 3
   },
   "file_extension": ".py",
   "mimetype": "text/x-python",
   "name": "python",
   "nbconvert_exporter": "python",
   "pygments_lexer": "ipython3",
   "version": "3.9.13"
  }
 },
 "nbformat": 4,
 "nbformat_minor": 5
}
